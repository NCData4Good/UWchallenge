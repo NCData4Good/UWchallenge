{
 "cells": [
  {
   "cell_type": "code",
   "execution_count": 1,
   "metadata": {
    "collapsed": false
   },
   "outputs": [],
   "source": [
    "import pandas as pd\n",
    "import numpy as np\n",
    "from matplotlib import pyplot as plt\n",
    "%matplotlib inline\n",
    "import json"
   ]
  },
  {
   "cell_type": "code",
   "execution_count": 2,
   "metadata": {
    "collapsed": false
   },
   "outputs": [],
   "source": [
    "tracts = json.load(open('/Users/shariqiqbal/data/data4good/tracts.json'))"
   ]
  },
  {
   "cell_type": "code",
   "execution_count": 3,
   "metadata": {
    "collapsed": true
   },
   "outputs": [],
   "source": [
    "df = pd.read_csv('/Users/shariqiqbal/data/data4good/ACS_13_5YR_S2201/ACS_13_5YR_S2201_with_ann.csv')"
   ]
  },
  {
   "cell_type": "code",
   "execution_count": 4,
   "metadata": {
    "collapsed": false
   },
   "outputs": [],
   "source": [
    "for col in df.columns:\n",
    "    if 'MOE' in col:\n",
    "        df = df.drop(col, axis=1)\n",
    "if 'GEO.id' in df.columns:\n",
    "    df = df.drop('GEO.id', axis=1)\n",
    "desc = df.iloc[0]\n",
    "df = df.drop(0)\n",
    "df[df == '-'] = np.nan"
   ]
  },
  {
   "cell_type": "code",
   "execution_count": 5,
   "metadata": {
    "collapsed": false,
    "scrolled": false
   },
   "outputs": [
    {
     "name": "stdout",
     "output_type": "stream",
     "text": [
      "GEO.id2 :          Id2\n",
      "GEO.display-label :          Geography\n",
      "HC01_EST_VC01 :          Total; Estimate; Households\n",
      "HC02_EST_VC01 :          Households receiving food stamps; Estimate; Households\n",
      "HC03_EST_VC01 :          Households not receiving food stamps; Estimate; Households\n",
      "HC01_EST_VC02 :          Total; Estimate; With one or more people 60 years and over\n",
      "HC02_EST_VC02 :          Households receiving food stamps; Estimate; With one or more people 60 years and over\n",
      "HC03_EST_VC02 :          Households not receiving food stamps; Estimate; With one or more people 60 years and over\n",
      "HC01_EST_VC03 :          Total; Estimate; With children under 18 years\n",
      "HC02_EST_VC03 :          Households receiving food stamps; Estimate; With children under 18 years\n",
      "HC03_EST_VC03 :          Households not receiving food stamps; Estimate; With children under 18 years\n",
      "HC01_EST_VC06 :          Total; Estimate; POVERTY STATUS IN THE PAST 12 MONTHS - Below poverty level\n",
      "HC02_EST_VC06 :          Households receiving food stamps; Estimate; POVERTY STATUS IN THE PAST 12 MONTHS - Below poverty level\n",
      "HC03_EST_VC06 :          Households not receiving food stamps; Estimate; POVERTY STATUS IN THE PAST 12 MONTHS - Below poverty level\n",
      "HC01_EST_VC09 :          Total; Estimate; DISABILITY STATUS - With one or more people with a disability\n",
      "HC02_EST_VC09 :          Households receiving food stamps; Estimate; DISABILITY STATUS - With one or more people with a disability\n",
      "HC03_EST_VC09 :          Households not receiving food stamps; Estimate; DISABILITY STATUS - With one or more people with a disability\n",
      "HC01_EST_VC12 :          Total; Estimate; RACE AND HISPANIC OR LATINO ORIGIN OF HOUSEHOLDER - One race\n",
      "HC02_EST_VC12 :          Households receiving food stamps; Estimate; RACE AND HISPANIC OR LATINO ORIGIN OF HOUSEHOLDER - One race\n",
      "HC03_EST_VC12 :          Households not receiving food stamps; Estimate; RACE AND HISPANIC OR LATINO ORIGIN OF HOUSEHOLDER - One race\n",
      "HC01_EST_VC13 :          Total; Estimate; RACE AND HISPANIC OR LATINO ORIGIN OF HOUSEHOLDER - One race - White\n",
      "HC02_EST_VC13 :          Households receiving food stamps; Estimate; RACE AND HISPANIC OR LATINO ORIGIN OF HOUSEHOLDER - One race - White\n",
      "HC03_EST_VC13 :          Households not receiving food stamps; Estimate; RACE AND HISPANIC OR LATINO ORIGIN OF HOUSEHOLDER - One race - White\n",
      "HC01_EST_VC14 :          Total; Estimate; RACE AND HISPANIC OR LATINO ORIGIN OF HOUSEHOLDER - One race - Black or African American\n",
      "HC02_EST_VC14 :          Households receiving food stamps; Estimate; RACE AND HISPANIC OR LATINO ORIGIN OF HOUSEHOLDER - One race - Black or African American\n",
      "HC03_EST_VC14 :          Households not receiving food stamps; Estimate; RACE AND HISPANIC OR LATINO ORIGIN OF HOUSEHOLDER - One race - Black or African American\n",
      "HC01_EST_VC15 :          Total; Estimate; RACE AND HISPANIC OR LATINO ORIGIN OF HOUSEHOLDER - One race - American Indian and Alaska Native\n",
      "HC02_EST_VC15 :          Households receiving food stamps; Estimate; RACE AND HISPANIC OR LATINO ORIGIN OF HOUSEHOLDER - One race - American Indian and Alaska Native\n",
      "HC03_EST_VC15 :          Households not receiving food stamps; Estimate; RACE AND HISPANIC OR LATINO ORIGIN OF HOUSEHOLDER - One race - American Indian and Alaska Native\n",
      "HC01_EST_VC16 :          Total; Estimate; RACE AND HISPANIC OR LATINO ORIGIN OF HOUSEHOLDER - One race - Asian\n",
      "HC02_EST_VC16 :          Households receiving food stamps; Estimate; RACE AND HISPANIC OR LATINO ORIGIN OF HOUSEHOLDER - One race - Asian\n",
      "HC03_EST_VC16 :          Households not receiving food stamps; Estimate; RACE AND HISPANIC OR LATINO ORIGIN OF HOUSEHOLDER - One race - Asian\n",
      "HC01_EST_VC17 :          Total; Estimate; RACE AND HISPANIC OR LATINO ORIGIN OF HOUSEHOLDER - One race - Native Hawaiian and Other Pacific Islander\n",
      "HC02_EST_VC17 :          Households receiving food stamps; Estimate; RACE AND HISPANIC OR LATINO ORIGIN OF HOUSEHOLDER - One race - Native Hawaiian and Other Pacific Islander\n",
      "HC03_EST_VC17 :          Households not receiving food stamps; Estimate; RACE AND HISPANIC OR LATINO ORIGIN OF HOUSEHOLDER - One race - Native Hawaiian and Other Pacific Islander\n",
      "HC01_EST_VC18 :          Total; Estimate; RACE AND HISPANIC OR LATINO ORIGIN OF HOUSEHOLDER - One race - Some other race\n",
      "HC02_EST_VC18 :          Households receiving food stamps; Estimate; RACE AND HISPANIC OR LATINO ORIGIN OF HOUSEHOLDER - One race - Some other race\n",
      "HC03_EST_VC18 :          Households not receiving food stamps; Estimate; RACE AND HISPANIC OR LATINO ORIGIN OF HOUSEHOLDER - One race - Some other race\n",
      "HC01_EST_VC19 :          Total; Estimate; RACE AND HISPANIC OR LATINO ORIGIN OF HOUSEHOLDER - Two or more races\n",
      "HC02_EST_VC19 :          Households receiving food stamps; Estimate; RACE AND HISPANIC OR LATINO ORIGIN OF HOUSEHOLDER - Two or more races\n",
      "HC03_EST_VC19 :          Households not receiving food stamps; Estimate; RACE AND HISPANIC OR LATINO ORIGIN OF HOUSEHOLDER - Two or more races\n",
      "HC01_EST_VC21 :          Total; Estimate; Hispanic or Latino origin (of any race)\n",
      "HC02_EST_VC21 :          Households receiving food stamps; Estimate; Hispanic or Latino origin (of any race)\n",
      "HC03_EST_VC21 :          Households not receiving food stamps; Estimate; Hispanic or Latino origin (of any race)\n",
      "HC01_EST_VC22 :          Total; Estimate; White alone, not Hispanic or Latino\n",
      "HC02_EST_VC22 :          Households receiving food stamps; Estimate; White alone, not Hispanic or Latino\n",
      "HC03_EST_VC22 :          Households not receiving food stamps; Estimate; White alone, not Hispanic or Latino\n",
      "HC01_EST_VC25 :          Total; Estimate; HOUSEHOLD INCOME IN THE PAST 12 MONTHS (IN 2013 INFLATION-ADJUSTED DOLLARS) - Median income (dollars)\n",
      "HC02_EST_VC25 :          Households receiving food stamps; Estimate; HOUSEHOLD INCOME IN THE PAST 12 MONTHS (IN 2013 INFLATION-ADJUSTED DOLLARS) - Median income (dollars)\n",
      "HC03_EST_VC25 :          Households not receiving food stamps; Estimate; HOUSEHOLD INCOME IN THE PAST 12 MONTHS (IN 2013 INFLATION-ADJUSTED DOLLARS) - Median income (dollars)\n",
      "HC01_EST_VC28 :          Total; Estimate; WORK STATUS - Families\n",
      "HC02_EST_VC28 :          Households receiving food stamps; Estimate; WORK STATUS - Families\n",
      "HC03_EST_VC28 :          Households not receiving food stamps; Estimate; WORK STATUS - Families\n",
      "HC01_EST_VC29 :          Total; Estimate; WORK STATUS - Families - No workers in past 12 months\n",
      "HC02_EST_VC29 :          Households receiving food stamps; Estimate; WORK STATUS - Families - No workers in past 12 months\n",
      "HC03_EST_VC29 :          Households not receiving food stamps; Estimate; WORK STATUS - Families - No workers in past 12 months\n",
      "HC01_EST_VC30 :          Total; Estimate; WORK STATUS - Families - 1 worker in past 12 months\n",
      "HC02_EST_VC30 :          Households receiving food stamps; Estimate; WORK STATUS - Families - 1 worker in past 12 months\n",
      "HC03_EST_VC30 :          Households not receiving food stamps; Estimate; WORK STATUS - Families - 1 worker in past 12 months\n",
      "HC01_EST_VC31 :          Total; Estimate; WORK STATUS - Families - 2 or more workers in past 12 months\n",
      "HC02_EST_VC31 :          Households receiving food stamps; Estimate; WORK STATUS - Families - 2 or more workers in past 12 months\n",
      "HC03_EST_VC31 :          Households not receiving food stamps; Estimate; WORK STATUS - Families - 2 or more workers in past 12 months\n",
      "HC01_EST_VC34 :          Total; Estimate; PERCENT IMPUTED - Food stamp/SNAP recipiency\n",
      "HC02_EST_VC34 :          Households receiving food stamps; Estimate; PERCENT IMPUTED - Food stamp/SNAP recipiency\n",
      "HC03_EST_VC34 :          Households not receiving food stamps; Estimate; PERCENT IMPUTED - Food stamp/SNAP recipiency\n"
     ]
    }
   ],
   "source": [
    "i=0\n",
    "for column in df.columns:\n",
    "    print column, ':         ', desc[i]\n",
    "    i+=1"
   ]
  },
  {
   "cell_type": "code",
   "execution_count": 6,
   "metadata": {
    "collapsed": false
   },
   "outputs": [],
   "source": [
    "df['prop_stamps'] = df.HC02_EST_VC01.values.astype(np.float) / df.HC01_EST_VC01.values.astype(np.float)"
   ]
  },
  {
   "cell_type": "code",
   "execution_count": 7,
   "metadata": {
    "collapsed": false
   },
   "outputs": [],
   "source": [
    "id_to_loc = {entry['properties']['GEOID']: (np.float(entry['properties']['INTPTLAT']), np.float(entry['properties']['INTPTLON'])) for entry in tracts['features']}"
   ]
  },
  {
   "cell_type": "code",
   "execution_count": 8,
   "metadata": {
    "collapsed": false
   },
   "outputs": [],
   "source": [
    "df['location'] = df['GEO.id2'].map(id_to_loc)"
   ]
  },
  {
   "cell_type": "code",
   "execution_count": 9,
   "metadata": {
    "collapsed": false
   },
   "outputs": [],
   "source": [
    "df2 = pd.read_csv('/Users/shariqiqbal/data/data4good/pantries.csv')"
   ]
  },
  {
   "cell_type": "code",
   "execution_count": 10,
   "metadata": {
    "collapsed": false
   },
   "outputs": [],
   "source": [
    "closest = np.zeros(len(df))\n",
    "for census_row in df.iterrows():\n",
    "    tract_loc = census_row[1].location\n",
    "    min_dist = np.inf\n",
    "    for pantries_row in df2.iterrows():\n",
    "        pantry_loc = (pantries_row[1].lat, pantries_row[1].lon)\n",
    "        curr_dist = (tract_loc[0] - pantry_loc[0])**2 + (tract_loc[1] - pantry_loc[1])**2\n",
    "        if curr_dist < min_dist:\n",
    "            min_dist = curr_dist\n",
    "    closest[census_row[0]-1] = min_dist"
   ]
  },
  {
   "cell_type": "code",
   "execution_count": 11,
   "metadata": {
    "collapsed": true
   },
   "outputs": [],
   "source": [
    "df['closest_pantry'] = closest"
   ]
  },
  {
   "cell_type": "code",
   "execution_count": 31,
   "metadata": {
    "collapsed": false
   },
   "outputs": [
    {
     "data": {
      "image/png": "[encoded data removed]",
      "text/plain": [
       "<matplotlib.figure.Figure at 0x11a250c10>"
      ]
     },
     "metadata": {},
     "output_type": "display_data"
    }
   ],
   "source": [
    "plt.figure(figsize=(10,10))\n",
    "\n",
    "plt.title(\"Distance to Closest Food Pantry in Areas of Need\")\n",
    "plt.ylabel(\"Distance to Closest Food Pantry\")\n",
    "plt.xlabel(\"Proportion of Region with Food Stamps\")\n",
    "plt.xlim(0, 0.6)\n",
    "plt.ylim(0, 0.030)\n",
    "plt.scatter(df.prop_stamps.values, df.closest_pantry.values);"
   ]
  },
  {
   "cell_type": "code",
   "execution_count": 14,
   "metadata": {
    "collapsed": false
   },
   "outputs": [
    {
     "data": {
      "text/html": [
       "<div>\n",
       "<table border=\"1\" class=\"dataframe\">\n",
       "  <thead>\n",
       "    <tr style=\"text-align: right;\">\n",
       "      <th></th>\n",
       "      <th>GEO.id2</th>\n",
       "      <th>GEO.display-label</th>\n",
       "      <th>HC01_EST_VC01</th>\n",
       "      <th>HC02_EST_VC01</th>\n",
       "      <th>HC03_EST_VC01</th>\n",
       "      <th>HC01_EST_VC02</th>\n",
       "      <th>HC02_EST_VC02</th>\n",
       "      <th>HC03_EST_VC02</th>\n",
       "      <th>HC01_EST_VC03</th>\n",
       "      <th>HC02_EST_VC03</th>\n",
       "      <th>...</th>\n",
       "      <th>HC03_EST_VC30</th>\n",
       "      <th>HC01_EST_VC31</th>\n",
       "      <th>HC02_EST_VC31</th>\n",
       "      <th>HC03_EST_VC31</th>\n",
       "      <th>HC01_EST_VC34</th>\n",
       "      <th>HC02_EST_VC34</th>\n",
       "      <th>HC03_EST_VC34</th>\n",
       "      <th>prop_stamps</th>\n",
       "      <th>location</th>\n",
       "      <th>closest_pantry</th>\n",
       "    </tr>\n",
       "  </thead>\n",
       "  <tbody>\n",
       "    <tr>\n",
       "      <th>81</th>\n",
       "      <td>37101041300</td>\n",
       "      <td>Census Tract 413, Johnston County, North Carolina</td>\n",
       "      <td>2065</td>\n",
       "      <td>479</td>\n",
       "      <td>1586</td>\n",
       "      <td>33.1</td>\n",
       "      <td>24.8</td>\n",
       "      <td>35.6</td>\n",
       "      <td>42.0</td>\n",
       "      <td>57.2</td>\n",
       "      <td>...</td>\n",
       "      <td>31.2</td>\n",
       "      <td>52.5</td>\n",
       "      <td>39.1</td>\n",
       "      <td>56.6</td>\n",
       "      <td>1.5</td>\n",
       "      <td>(X)</td>\n",
       "      <td>(X)</td>\n",
       "      <td>0.231961</td>\n",
       "      <td>(35.3286198, -78.3557665)</td>\n",
       "      <td>0.019181</td>\n",
       "    </tr>\n",
       "    <tr>\n",
       "      <th>99</th>\n",
       "      <td>37135011203</td>\n",
       "      <td>Census Tract 112.03, Orange County, North Caro...</td>\n",
       "      <td>2321</td>\n",
       "      <td>272</td>\n",
       "      <td>2049</td>\n",
       "      <td>34.8</td>\n",
       "      <td>16.5</td>\n",
       "      <td>37.2</td>\n",
       "      <td>30.5</td>\n",
       "      <td>53.3</td>\n",
       "      <td>...</td>\n",
       "      <td>23.8</td>\n",
       "      <td>52.3</td>\n",
       "      <td>14.2</td>\n",
       "      <td>57.1</td>\n",
       "      <td>0.6</td>\n",
       "      <td>(X)</td>\n",
       "      <td>(X)</td>\n",
       "      <td>0.117191</td>\n",
       "      <td>(35.9438185, -79.2194717)</td>\n",
       "      <td>0.022391</td>\n",
       "    </tr>\n",
       "  </tbody>\n",
       "</table>\n",
       "<p>2 rows × 68 columns</p>\n",
       "</div>"
      ],
      "text/plain": [
       "        GEO.id2                                  GEO.display-label  \\\n",
       "81  37101041300  Census Tract 413, Johnston County, North Carolina   \n",
       "99  37135011203  Census Tract 112.03, Orange County, North Caro...   \n",
       "\n",
       "   HC01_EST_VC01 HC02_EST_VC01 HC03_EST_VC01 HC01_EST_VC02 HC02_EST_VC02  \\\n",
       "81          2065           479          1586          33.1          24.8   \n",
       "99          2321           272          2049          34.8          16.5   \n",
       "\n",
       "   HC03_EST_VC02 HC01_EST_VC03 HC02_EST_VC03      ...       HC03_EST_VC30  \\\n",
       "81          35.6          42.0          57.2      ...                31.2   \n",
       "99          37.2          30.5          53.3      ...                23.8   \n",
       "\n",
       "   HC01_EST_VC31 HC02_EST_VC31 HC03_EST_VC31 HC01_EST_VC34 HC02_EST_VC34  \\\n",
       "81          52.5          39.1          56.6           1.5           (X)   \n",
       "99          52.3          14.2          57.1           0.6           (X)   \n",
       "\n",
       "   HC03_EST_VC34 prop_stamps                   location closest_pantry  \n",
       "81           (X)    0.231961  (35.3286198, -78.3557665)       0.019181  \n",
       "99           (X)    0.117191  (35.9438185, -79.2194717)       0.022391  \n",
       "\n",
       "[2 rows x 68 columns]"
      ]
     },
     "execution_count": 14,
     "metadata": {},
     "output_type": "execute_result"
    }
   ],
   "source": [
    "df[df.closest_pantry>0.015]"
   ]
  },
  {
   "cell_type": "code",
   "execution_count": 23,
   "metadata": {
    "collapsed": false
   },
   "outputs": [
    {
     "data": {
      "text/html": [
       "<div>\n",
       "<table border=\"1\" class=\"dataframe\">\n",
       "  <thead>\n",
       "    <tr style=\"text-align: right;\">\n",
       "      <th></th>\n",
       "      <th>GEO.id2</th>\n",
       "      <th>GEO.display-label</th>\n",
       "      <th>HC01_EST_VC01</th>\n",
       "      <th>HC02_EST_VC01</th>\n",
       "      <th>HC03_EST_VC01</th>\n",
       "      <th>HC01_EST_VC02</th>\n",
       "      <th>HC02_EST_VC02</th>\n",
       "      <th>HC03_EST_VC02</th>\n",
       "      <th>HC01_EST_VC03</th>\n",
       "      <th>HC02_EST_VC03</th>\n",
       "      <th>...</th>\n",
       "      <th>HC03_EST_VC30</th>\n",
       "      <th>HC01_EST_VC31</th>\n",
       "      <th>HC02_EST_VC31</th>\n",
       "      <th>HC03_EST_VC31</th>\n",
       "      <th>HC01_EST_VC34</th>\n",
       "      <th>HC02_EST_VC34</th>\n",
       "      <th>HC03_EST_VC34</th>\n",
       "      <th>prop_stamps</th>\n",
       "      <th>location</th>\n",
       "      <th>closest_pantry</th>\n",
       "    </tr>\n",
       "  </thead>\n",
       "  <tbody>\n",
       "    <tr>\n",
       "      <th>65</th>\n",
       "      <td>37101040301</td>\n",
       "      <td>Census Tract 403.01, Johnston County, North Ca...</td>\n",
       "      <td>1529</td>\n",
       "      <td>588</td>\n",
       "      <td>941</td>\n",
       "      <td>43.0</td>\n",
       "      <td>33.7</td>\n",
       "      <td>48.9</td>\n",
       "      <td>31.7</td>\n",
       "      <td>50.5</td>\n",
       "      <td>...</td>\n",
       "      <td>33.4</td>\n",
       "      <td>36.2</td>\n",
       "      <td>9.4</td>\n",
       "      <td>53.0</td>\n",
       "      <td>2.7</td>\n",
       "      <td>(X)</td>\n",
       "      <td>(X)</td>\n",
       "      <td>0.384565</td>\n",
       "      <td>(35.5607778, -78.2486071)</td>\n",
       "      <td>0.001953</td>\n",
       "    </tr>\n",
       "  </tbody>\n",
       "</table>\n",
       "<p>1 rows × 68 columns</p>\n",
       "</div>"
      ],
      "text/plain": [
       "        GEO.id2                                  GEO.display-label  \\\n",
       "65  37101040301  Census Tract 403.01, Johnston County, North Ca...   \n",
       "\n",
       "   HC01_EST_VC01 HC02_EST_VC01 HC03_EST_VC01 HC01_EST_VC02 HC02_EST_VC02  \\\n",
       "65          1529           588           941          43.0          33.7   \n",
       "\n",
       "   HC03_EST_VC02 HC01_EST_VC03 HC02_EST_VC03      ...       HC03_EST_VC30  \\\n",
       "65          48.9          31.7          50.5      ...                33.4   \n",
       "\n",
       "   HC01_EST_VC31 HC02_EST_VC31 HC03_EST_VC31 HC01_EST_VC34 HC02_EST_VC34  \\\n",
       "65          36.2           9.4          53.0           2.7           (X)   \n",
       "\n",
       "   HC03_EST_VC34 prop_stamps                   location closest_pantry  \n",
       "65           (X)    0.384565  (35.5607778, -78.2486071)       0.001953  \n",
       "\n",
       "[1 rows x 68 columns]"
      ]
     },
     "execution_count": 23,
     "metadata": {},
     "output_type": "execute_result"
    }
   ],
   "source": [
    "df[(df.closest_pantry>0.001) & (df.prop_stamps>0.3)]"
   ]
  },
  {
   "cell_type": "code",
   "execution_count": null,
   "metadata": {
    "collapsed": true
   },
   "outputs": [],
   "source": []
  }
 ],
 "metadata": {
  "kernelspec": {
   "display_name": "Python 2",
   "language": "python",
   "name": "python2"
  },
  "language_info": {
   "codemirror_mode": {
    "name": "ipython",
    "version": 2
   },
   "file_extension": ".py",
   "mimetype": "text/x-python",
   "name": "python",
   "nbconvert_exporter": "python",
   "pygments_lexer": "ipython2",
   "version": "2.7.10"
  }
 },
 "nbformat": 4,
 "nbformat_minor": 0
}
