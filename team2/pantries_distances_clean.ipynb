{
 "cells": [
  {
   "cell_type": "code",
   "execution_count": 1,
   "metadata": {
    "collapsed": true
   },
   "outputs": [],
   "source": [
    "import pyproj\n",
    "import pandas as pd"
   ]
  },
  {
   "cell_type": "markdown",
   "metadata": {},
   "source": [
    "#import data"
   ]
  },
  {
   "cell_type": "markdown",
   "metadata": {},
   "source": [
    "will need to change the filepath to your filepath"
   ]
  },
  {
   "cell_type": "code",
   "execution_count": 17,
   "metadata": {
    "collapsed": true
   },
   "outputs": [],
   "source": [
    "pantry_location = pd.read_csv('/mnt/datavault/alice/data4good_dvd/pantries.csv')"
   ]
  },
  {
   "cell_type": "code",
   "execution_count": 18,
   "metadata": {
    "collapsed": true
   },
   "outputs": [
    {
     "data": {
      "text/html": [
       "<div>\n",
       "<table border=\"1\" class=\"dataframe\">\n",
       "  <thead>\n",
       "    <tr style=\"text-align: right;\">\n",
       "      <th></th>\n",
       "      <th>foodpantry</th>\n",
       "      <th>address</th>\n",
       "      <th>address2</th>\n",
       "      <th>city</th>\n",
       "      <th>state</th>\n",
       "      <th>zip</th>\n",
       "      <th>phone</th>\n",
       "      <th>county</th>\n",
       "      <th>lon</th>\n",
       "      <th>lat</th>\n",
       "    </tr>\n",
       "  </thead>\n",
       "  <tbody>\n",
       "    <tr>\n",
       "      <th>0</th>\n",
       "      <td>Asbury Temple United Methodist Church</td>\n",
       "      <td>201 Alston Avenue</td>\n",
       "      <td>NaN</td>\n",
       "      <td>Durham</td>\n",
       "      <td>NC</td>\n",
       "      <td>27701</td>\n",
       "      <td>(919) 688-4578</td>\n",
       "      <td>Durham</td>\n",
       "      <td>-78.888300</td>\n",
       "      <td>35.985724</td>\n",
       "    </tr>\n",
       "    <tr>\n",
       "      <th>1</th>\n",
       "      <td>Bethlehem Temple Apostolic Faith Church of Dur...</td>\n",
       "      <td>600 North Roxboro Street</td>\n",
       "      <td>NaN</td>\n",
       "      <td>Durham</td>\n",
       "      <td>NC</td>\n",
       "      <td>27704</td>\n",
       "      <td>(919) 683-1291</td>\n",
       "      <td>Durham</td>\n",
       "      <td>-78.894506</td>\n",
       "      <td>35.998290</td>\n",
       "    </tr>\n",
       "    <tr>\n",
       "      <th>2</th>\n",
       "      <td>Bethlehem United Holy Church Food Pantry</td>\n",
       "      <td>1311 Milton Road</td>\n",
       "      <td>NaN</td>\n",
       "      <td>Durham</td>\n",
       "      <td>NC</td>\n",
       "      <td>27712</td>\n",
       "      <td>(919) 815-2999</td>\n",
       "      <td>Durham</td>\n",
       "      <td>-78.918512</td>\n",
       "      <td>36.104674</td>\n",
       "    </tr>\n",
       "    <tr>\n",
       "      <th>3</th>\n",
       "      <td>Birchwood Learning Center Food Pantry</td>\n",
       "      <td>416 Walton Street</td>\n",
       "      <td>NaN</td>\n",
       "      <td>Durham</td>\n",
       "      <td>NC</td>\n",
       "      <td>27703</td>\n",
       "      <td>(919) 598-9885</td>\n",
       "      <td>Durham</td>\n",
       "      <td>-78.846948</td>\n",
       "      <td>35.981163</td>\n",
       "    </tr>\n",
       "    <tr>\n",
       "      <th>4</th>\n",
       "      <td>CAARE, Inc.</td>\n",
       "      <td>214 Broadway Street</td>\n",
       "      <td>NaN</td>\n",
       "      <td>Durham</td>\n",
       "      <td>NC</td>\n",
       "      <td>27701</td>\n",
       "      <td>(919) 683-5300</td>\n",
       "      <td>Durham</td>\n",
       "      <td>-78.898764</td>\n",
       "      <td>36.001235</td>\n",
       "    </tr>\n",
       "  </tbody>\n",
       "</table>\n",
       "</div>"
      ],
      "text/plain": [
       "                                          foodpantry  \\\n",
       "0              Asbury Temple United Methodist Church   \n",
       "1  Bethlehem Temple Apostolic Faith Church of Dur...   \n",
       "2           Bethlehem United Holy Church Food Pantry   \n",
       "3              Birchwood Learning Center Food Pantry   \n",
       "4                                        CAARE, Inc.   \n",
       "\n",
       "                    address address2    city state    zip           phone  \\\n",
       "0         201 Alston Avenue      NaN  Durham    NC  27701  (919) 688-4578   \n",
       "1  600 North Roxboro Street      NaN  Durham    NC  27704  (919) 683-1291   \n",
       "2          1311 Milton Road      NaN  Durham    NC  27712  (919) 815-2999   \n",
       "3         416 Walton Street      NaN  Durham    NC  27703  (919) 598-9885   \n",
       "4       214 Broadway Street      NaN  Durham    NC  27701  (919) 683-5300   \n",
       "\n",
       "   county        lon        lat  \n",
       "0  Durham -78.888300  35.985724  \n",
       "1  Durham -78.894506  35.998290  \n",
       "2  Durham -78.918512  36.104674  \n",
       "3  Durham -78.846948  35.981163  \n",
       "4  Durham -78.898764  36.001235  "
      ]
     },
     "execution_count": 18,
     "metadata": {},
     "output_type": "execute_result"
    }
   ],
   "source": [
    "pantry_location.head()"
   ]
  },
  {
   "cell_type": "code",
   "execution_count": 19,
   "metadata": {
    "collapsed": true
   },
   "outputs": [],
   "source": [
    "bus_stops = pd.read_csv('/mnt/datavault/alice/data4good_dvd/rdsstops.csv')"
   ]
  },
  {
   "cell_type": "code",
   "execution_count": 20,
   "metadata": {
    "collapsed": false
   },
   "outputs": [
    {
     "data": {
      "text/plain": [
       "(3467, 12)"
      ]
     },
     "execution_count": 20,
     "metadata": {},
     "output_type": "execute_result"
    }
   ],
   "source": [
    "bus_stops.shape"
   ]
  },
  {
   "cell_type": "code",
   "execution_count": 21,
   "metadata": {
    "collapsed": true
   },
   "outputs": [
    {
     "data": {
      "text/html": [
       "<div>\n",
       "<table border=\"1\" class=\"dataframe\">\n",
       "  <thead>\n",
       "    <tr style=\"text-align: right;\">\n",
       "      <th></th>\n",
       "      <th>code</th>\n",
       "      <th>description</th>\n",
       "      <th>url</th>\n",
       "      <th>parent_station_id</th>\n",
       "      <th>agency_ids</th>\n",
       "      <th>station_id</th>\n",
       "      <th>location_type</th>\n",
       "      <th>stop_id</th>\n",
       "      <th>routes</th>\n",
       "      <th>name</th>\n",
       "      <th>location.lat</th>\n",
       "      <th>location.lng</th>\n",
       "    </tr>\n",
       "  </thead>\n",
       "  <tbody>\n",
       "    <tr>\n",
       "      <th>1</th>\n",
       "      <td>1240</td>\n",
       "      <td>NaN</td>\n",
       "      <td>NaN</td>\n",
       "      <td>NaN</td>\n",
       "      <td>12</td>\n",
       "      <td>NaN</td>\n",
       "      <td>stop</td>\n",
       "      <td>4025434</td>\n",
       "      <td>4000112</td>\n",
       "      <td>NC 55 at Colony Woods Dr</td>\n",
       "      <td>35.75749</td>\n",
       "      <td>-78.87623</td>\n",
       "    </tr>\n",
       "    <tr>\n",
       "      <th>2</th>\n",
       "      <td>1241</td>\n",
       "      <td>NaN</td>\n",
       "      <td>NaN</td>\n",
       "      <td>NaN</td>\n",
       "      <td>12</td>\n",
       "      <td>NaN</td>\n",
       "      <td>stop</td>\n",
       "      <td>4025438</td>\n",
       "      <td>4000112</td>\n",
       "      <td>NC 55 at Old Jenks Rd</td>\n",
       "      <td>35.76126</td>\n",
       "      <td>-78.87546</td>\n",
       "    </tr>\n",
       "    <tr>\n",
       "      <th>3</th>\n",
       "      <td>1242</td>\n",
       "      <td>NaN</td>\n",
       "      <td>NaN</td>\n",
       "      <td>NaN</td>\n",
       "      <td>12</td>\n",
       "      <td>NaN</td>\n",
       "      <td>stop</td>\n",
       "      <td>4025442</td>\n",
       "      <td>4000112</td>\n",
       "      <td>NC 55 at Lewey Dr</td>\n",
       "      <td>35.77369</td>\n",
       "      <td>-78.87318</td>\n",
       "    </tr>\n",
       "    <tr>\n",
       "      <th>4</th>\n",
       "      <td>1262</td>\n",
       "      <td>NaN</td>\n",
       "      <td>NaN</td>\n",
       "      <td>NaN</td>\n",
       "      <td>12</td>\n",
       "      <td>NaN</td>\n",
       "      <td>stop</td>\n",
       "      <td>4025474</td>\n",
       "      <td>4000112, 4000117</td>\n",
       "      <td>Pine Plaza Dr at Summit Lake Dr</td>\n",
       "      <td>35.74599</td>\n",
       "      <td>-78.82045</td>\n",
       "    </tr>\n",
       "    <tr>\n",
       "      <th>5</th>\n",
       "      <td>1263</td>\n",
       "      <td>NaN</td>\n",
       "      <td>NaN</td>\n",
       "      <td>NaN</td>\n",
       "      <td>12</td>\n",
       "      <td>NaN</td>\n",
       "      <td>stop</td>\n",
       "      <td>4025478</td>\n",
       "      <td>4000112, 4000117</td>\n",
       "      <td>Pine Plaza Dr at Shepherds Vineyard</td>\n",
       "      <td>35.74686</td>\n",
       "      <td>-78.82340</td>\n",
       "    </tr>\n",
       "  </tbody>\n",
       "</table>\n",
       "</div>"
      ],
      "text/plain": [
       "   code  description  url  parent_station_id agency_ids  station_id  \\\n",
       "1  1240          NaN  NaN                NaN         12         NaN   \n",
       "2  1241          NaN  NaN                NaN         12         NaN   \n",
       "3  1242          NaN  NaN                NaN         12         NaN   \n",
       "4  1262          NaN  NaN                NaN         12         NaN   \n",
       "5  1263          NaN  NaN                NaN         12         NaN   \n",
       "\n",
       "  location_type  stop_id            routes  \\\n",
       "1          stop  4025434           4000112   \n",
       "2          stop  4025438           4000112   \n",
       "3          stop  4025442           4000112   \n",
       "4          stop  4025474  4000112, 4000117   \n",
       "5          stop  4025478  4000112, 4000117   \n",
       "\n",
       "                                  name  location.lat  location.lng  \n",
       "1             NC 55 at Colony Woods Dr      35.75749     -78.87623  \n",
       "2                NC 55 at Old Jenks Rd      35.76126     -78.87546  \n",
       "3                    NC 55 at Lewey Dr      35.77369     -78.87318  \n",
       "4      Pine Plaza Dr at Summit Lake Dr      35.74599     -78.82045  \n",
       "5  Pine Plaza Dr at Shepherds Vineyard      35.74686     -78.82340  "
      ]
     },
     "execution_count": 21,
     "metadata": {},
     "output_type": "execute_result"
    }
   ],
   "source": [
    "bus_stops.head()"
   ]
  },
  {
   "cell_type": "code",
   "execution_count": 22,
   "metadata": {
    "collapsed": false
   },
   "outputs": [
    {
     "data": {
      "text/plain": [
       "array(['Durham', 'Johnston', 'Orange', 'Wake'], dtype=object)"
      ]
     },
     "execution_count": 22,
     "metadata": {},
     "output_type": "execute_result"
    }
   ],
   "source": [
    "pantry_location.county.unique()"
   ]
  },
  {
   "cell_type": "code",
   "execution_count": 23,
   "metadata": {
    "collapsed": false
   },
   "outputs": [
    {
     "data": {
      "text/plain": [
       "(169, 10)"
      ]
     },
     "execution_count": 23,
     "metadata": {},
     "output_type": "execute_result"
    }
   ],
   "source": [
    "pantry_location.shape"
   ]
  },
  {
   "cell_type": "markdown",
   "metadata": {},
   "source": [
    "##exclude Johnston because Johnston does not have it's own busline"
   ]
  },
  {
   "cell_type": "code",
   "execution_count": 24,
   "metadata": {
    "collapsed": false
   },
   "outputs": [],
   "source": [
    "pantry_location = pantry_location.loc[~(pantry_location.county=='Johnston'), :]"
   ]
  },
  {
   "cell_type": "code",
   "execution_count": 25,
   "metadata": {
    "collapsed": false
   },
   "outputs": [
    {
     "data": {
      "text/plain": [
       "(136, 10)"
      ]
     },
     "execution_count": 25,
     "metadata": {},
     "output_type": "execute_result"
    }
   ],
   "source": [
    "pantry_location.shape"
   ]
  },
  {
   "cell_type": "markdown",
   "metadata": {},
   "source": [
    "##Cartesian product of pantries and bus stops to get distances"
   ]
  },
  {
   "cell_type": "code",
   "execution_count": 26,
   "metadata": {
    "collapsed": true
   },
   "outputs": [],
   "source": [
    "pantry_location['key'] = pd.Series([1]*pantry_location.shape[0])\n",
    "bus_stops['key'] = pd.Series([1]*bus_stops.shape[0])\n",
    "bus_by_pantry = pd.merge(pantry_location, bus_stops, on='key')"
   ]
  },
  {
   "cell_type": "code",
   "execution_count": 27,
   "metadata": {
    "collapsed": false
   },
   "outputs": [
    {
     "data": {
      "text/plain": [
       "(357031, 23)"
      ]
     },
     "execution_count": 27,
     "metadata": {},
     "output_type": "execute_result"
    }
   ],
   "source": [
    "bus_by_pantry.shape"
   ]
  },
  {
   "cell_type": "code",
   "execution_count": 28,
   "metadata": {
    "collapsed": true
   },
   "outputs": [
    {
     "data": {
      "text/html": [
       "<div>\n",
       "<table border=\"1\" class=\"dataframe\">\n",
       "  <thead>\n",
       "    <tr style=\"text-align: right;\">\n",
       "      <th></th>\n",
       "      <th>foodpantry</th>\n",
       "      <th>address</th>\n",
       "      <th>address2</th>\n",
       "      <th>city</th>\n",
       "      <th>state</th>\n",
       "      <th>zip</th>\n",
       "      <th>phone</th>\n",
       "      <th>county</th>\n",
       "      <th>lon</th>\n",
       "      <th>lat</th>\n",
       "      <th>...</th>\n",
       "      <th>url</th>\n",
       "      <th>parent_station_id</th>\n",
       "      <th>agency_ids</th>\n",
       "      <th>station_id</th>\n",
       "      <th>location_type</th>\n",
       "      <th>stop_id</th>\n",
       "      <th>routes</th>\n",
       "      <th>name</th>\n",
       "      <th>location.lat</th>\n",
       "      <th>location.lng</th>\n",
       "    </tr>\n",
       "  </thead>\n",
       "  <tbody>\n",
       "    <tr>\n",
       "      <th>0</th>\n",
       "      <td>Asbury Temple United Methodist Church</td>\n",
       "      <td>201 Alston Avenue</td>\n",
       "      <td>NaN</td>\n",
       "      <td>Durham</td>\n",
       "      <td>NC</td>\n",
       "      <td>27701</td>\n",
       "      <td>(919) 688-4578</td>\n",
       "      <td>Durham</td>\n",
       "      <td>-78.8883</td>\n",
       "      <td>35.985724</td>\n",
       "      <td>...</td>\n",
       "      <td>NaN</td>\n",
       "      <td>NaN</td>\n",
       "      <td>12</td>\n",
       "      <td>NaN</td>\n",
       "      <td>stop</td>\n",
       "      <td>4025434</td>\n",
       "      <td>4000112</td>\n",
       "      <td>NC 55 at Colony Woods Dr</td>\n",
       "      <td>35.75749</td>\n",
       "      <td>-78.87623</td>\n",
       "    </tr>\n",
       "    <tr>\n",
       "      <th>1</th>\n",
       "      <td>Asbury Temple United Methodist Church</td>\n",
       "      <td>201 Alston Avenue</td>\n",
       "      <td>NaN</td>\n",
       "      <td>Durham</td>\n",
       "      <td>NC</td>\n",
       "      <td>27701</td>\n",
       "      <td>(919) 688-4578</td>\n",
       "      <td>Durham</td>\n",
       "      <td>-78.8883</td>\n",
       "      <td>35.985724</td>\n",
       "      <td>...</td>\n",
       "      <td>NaN</td>\n",
       "      <td>NaN</td>\n",
       "      <td>12</td>\n",
       "      <td>NaN</td>\n",
       "      <td>stop</td>\n",
       "      <td>4025438</td>\n",
       "      <td>4000112</td>\n",
       "      <td>NC 55 at Old Jenks Rd</td>\n",
       "      <td>35.76126</td>\n",
       "      <td>-78.87546</td>\n",
       "    </tr>\n",
       "    <tr>\n",
       "      <th>2</th>\n",
       "      <td>Asbury Temple United Methodist Church</td>\n",
       "      <td>201 Alston Avenue</td>\n",
       "      <td>NaN</td>\n",
       "      <td>Durham</td>\n",
       "      <td>NC</td>\n",
       "      <td>27701</td>\n",
       "      <td>(919) 688-4578</td>\n",
       "      <td>Durham</td>\n",
       "      <td>-78.8883</td>\n",
       "      <td>35.985724</td>\n",
       "      <td>...</td>\n",
       "      <td>NaN</td>\n",
       "      <td>NaN</td>\n",
       "      <td>12</td>\n",
       "      <td>NaN</td>\n",
       "      <td>stop</td>\n",
       "      <td>4025442</td>\n",
       "      <td>4000112</td>\n",
       "      <td>NC 55 at Lewey Dr</td>\n",
       "      <td>35.77369</td>\n",
       "      <td>-78.87318</td>\n",
       "    </tr>\n",
       "    <tr>\n",
       "      <th>3</th>\n",
       "      <td>Asbury Temple United Methodist Church</td>\n",
       "      <td>201 Alston Avenue</td>\n",
       "      <td>NaN</td>\n",
       "      <td>Durham</td>\n",
       "      <td>NC</td>\n",
       "      <td>27701</td>\n",
       "      <td>(919) 688-4578</td>\n",
       "      <td>Durham</td>\n",
       "      <td>-78.8883</td>\n",
       "      <td>35.985724</td>\n",
       "      <td>...</td>\n",
       "      <td>NaN</td>\n",
       "      <td>NaN</td>\n",
       "      <td>12</td>\n",
       "      <td>NaN</td>\n",
       "      <td>stop</td>\n",
       "      <td>4025474</td>\n",
       "      <td>4000112, 4000117</td>\n",
       "      <td>Pine Plaza Dr at Summit Lake Dr</td>\n",
       "      <td>35.74599</td>\n",
       "      <td>-78.82045</td>\n",
       "    </tr>\n",
       "    <tr>\n",
       "      <th>4</th>\n",
       "      <td>Asbury Temple United Methodist Church</td>\n",
       "      <td>201 Alston Avenue</td>\n",
       "      <td>NaN</td>\n",
       "      <td>Durham</td>\n",
       "      <td>NC</td>\n",
       "      <td>27701</td>\n",
       "      <td>(919) 688-4578</td>\n",
       "      <td>Durham</td>\n",
       "      <td>-78.8883</td>\n",
       "      <td>35.985724</td>\n",
       "      <td>...</td>\n",
       "      <td>NaN</td>\n",
       "      <td>NaN</td>\n",
       "      <td>12</td>\n",
       "      <td>NaN</td>\n",
       "      <td>stop</td>\n",
       "      <td>4025478</td>\n",
       "      <td>4000112, 4000117</td>\n",
       "      <td>Pine Plaza Dr at Shepherds Vineyard</td>\n",
       "      <td>35.74686</td>\n",
       "      <td>-78.82340</td>\n",
       "    </tr>\n",
       "  </tbody>\n",
       "</table>\n",
       "<p>5 rows × 23 columns</p>\n",
       "</div>"
      ],
      "text/plain": [
       "                              foodpantry            address address2    city  \\\n",
       "0  Asbury Temple United Methodist Church  201 Alston Avenue      NaN  Durham   \n",
       "1  Asbury Temple United Methodist Church  201 Alston Avenue      NaN  Durham   \n",
       "2  Asbury Temple United Methodist Church  201 Alston Avenue      NaN  Durham   \n",
       "3  Asbury Temple United Methodist Church  201 Alston Avenue      NaN  Durham   \n",
       "4  Asbury Temple United Methodist Church  201 Alston Avenue      NaN  Durham   \n",
       "\n",
       "  state    zip           phone  county      lon        lat     ...       url  \\\n",
       "0    NC  27701  (919) 688-4578  Durham -78.8883  35.985724     ...       NaN   \n",
       "1    NC  27701  (919) 688-4578  Durham -78.8883  35.985724     ...       NaN   \n",
       "2    NC  27701  (919) 688-4578  Durham -78.8883  35.985724     ...       NaN   \n",
       "3    NC  27701  (919) 688-4578  Durham -78.8883  35.985724     ...       NaN   \n",
       "4    NC  27701  (919) 688-4578  Durham -78.8883  35.985724     ...       NaN   \n",
       "\n",
       "   parent_station_id  agency_ids  station_id  location_type  stop_id  \\\n",
       "0                NaN          12         NaN           stop  4025434   \n",
       "1                NaN          12         NaN           stop  4025438   \n",
       "2                NaN          12         NaN           stop  4025442   \n",
       "3                NaN          12         NaN           stop  4025474   \n",
       "4                NaN          12         NaN           stop  4025478   \n",
       "\n",
       "             routes                                 name  location.lat  \\\n",
       "0           4000112             NC 55 at Colony Woods Dr      35.75749   \n",
       "1           4000112                NC 55 at Old Jenks Rd      35.76126   \n",
       "2           4000112                    NC 55 at Lewey Dr      35.77369   \n",
       "3  4000112, 4000117      Pine Plaza Dr at Summit Lake Dr      35.74599   \n",
       "4  4000112, 4000117  Pine Plaza Dr at Shepherds Vineyard      35.74686   \n",
       "\n",
       "  location.lng  \n",
       "0    -78.87623  \n",
       "1    -78.87546  \n",
       "2    -78.87318  \n",
       "3    -78.82045  \n",
       "4    -78.82340  \n",
       "\n",
       "[5 rows x 23 columns]"
      ]
     },
     "execution_count": 28,
     "metadata": {},
     "output_type": "execute_result"
    }
   ],
   "source": [
    "bus_by_pantry.head()"
   ]
  },
  {
   "cell_type": "markdown",
   "metadata": {},
   "source": [
    "##Distance function"
   ]
  },
  {
   "cell_type": "code",
   "execution_count": 14,
   "metadata": {
    "collapsed": true
   },
   "outputs": [],
   "source": [
    "geod = pyproj.Geod(ellps='WGS84')\n",
    "def distance(row):\n",
    "            return geod.inv(row.bus_lng, row.bus_lat,\n",
    "                            row.pantry_lon, row.pantry_lat)[2]"
   ]
  },
  {
   "cell_type": "markdown",
   "metadata": {},
   "source": [
    "#get distances all except Johnston"
   ]
  },
  {
   "cell_type": "code",
   "execution_count": 29,
   "metadata": {
    "collapsed": false
   },
   "outputs": [
    {
     "data": {
      "text/plain": [
       "Index([u'foodpantry', u'address', u'address2', u'city', u'state', u'zip',\n",
       "       u'phone', u'county', u'lon', u'lat', u'key', u'code', u'description',\n",
       "       u'url', u'parent_station_id', u'agency_ids', u'station_id',\n",
       "       u'location_type', u'stop_id', u'routes', u'name', u'location.lat',\n",
       "       u'location.lng'],\n",
       "      dtype='object')"
      ]
     },
     "execution_count": 29,
     "metadata": {},
     "output_type": "execute_result"
    }
   ],
   "source": [
    "bus_by_pantry.columns"
   ]
  },
  {
   "cell_type": "code",
   "execution_count": 30,
   "metadata": {
    "collapsed": true
   },
   "outputs": [],
   "source": [
    "bus_by_pantry.columns = [u'foodpantry', u'address', u'address2', u'city', u'state', u'zip',\n",
    "       u'phone', u'county', u'pantry_lon', u'pantry_lat', u'key', u'code', u'description',\n",
    "       u'url', u'parent_station_id', u'agency_ids', u'station_id',\n",
    "       u'location_type', u'stop_id', u'routes', u'name', u'bus_lat',\n",
    "       u'bus_lng']"
   ]
  },
  {
   "cell_type": "code",
   "execution_count": 31,
   "metadata": {
    "collapsed": true
   },
   "outputs": [],
   "source": [
    "bus_by_pantry_small = bus_by_pantry.loc[:, [u'bus_lng', u'bus_lat', u'pantry_lon',\n",
    "       u'pantry_lat']] #just want distances"
   ]
  },
  {
   "cell_type": "code",
   "execution_count": 33,
   "metadata": {
    "collapsed": false
   },
   "outputs": [
    {
     "data": {
      "text/plain": [
       "(357031, 4)"
      ]
     },
     "execution_count": 33,
     "metadata": {},
     "output_type": "execute_result"
    }
   ],
   "source": [
    "bus_by_pantry_small.shape"
   ]
  },
  {
   "cell_type": "code",
   "execution_count": 34,
   "metadata": {
    "collapsed": false
   },
   "outputs": [],
   "source": [
    "#drop missing lat/long values\n",
    "\n",
    "bus_by_pantry.dropna(subset=[u'bus_lat', u'bus_lng', u'pantry_lon',\n",
    "       u'pantry_lat'], inplace=True)\n",
    "bus_by_pantry_small.dropna(subset=[u'bus_lng', u'bus_lat', u'pantry_lon',\n",
    "       u'pantry_lat'], inplace=True)"
   ]
  },
  {
   "cell_type": "code",
   "execution_count": 35,
   "metadata": {
    "collapsed": false
   },
   "outputs": [
    {
     "data": {
      "text/plain": [
       "(357031, 23)"
      ]
     },
     "execution_count": 35,
     "metadata": {},
     "output_type": "execute_result"
    }
   ],
   "source": [
    "bus_by_pantry.shape"
   ]
  },
  {
   "cell_type": "code",
   "execution_count": 36,
   "metadata": {
    "collapsed": false
   },
   "outputs": [
    {
     "data": {
      "text/plain": [
       "(357031, 4)"
      ]
     },
     "execution_count": 36,
     "metadata": {},
     "output_type": "execute_result"
    }
   ],
   "source": [
    "bus_by_pantry_small.shape"
   ]
  },
  {
   "cell_type": "code",
   "execution_count": 37,
   "metadata": {
    "collapsed": false
   },
   "outputs": [
    {
     "data": {
      "text/html": [
       "<div>\n",
       "<table border=\"1\" class=\"dataframe\">\n",
       "  <thead>\n",
       "    <tr style=\"text-align: right;\">\n",
       "      <th></th>\n",
       "      <th>bus_lng</th>\n",
       "      <th>bus_lat</th>\n",
       "      <th>pantry_lon</th>\n",
       "      <th>pantry_lat</th>\n",
       "    </tr>\n",
       "  </thead>\n",
       "  <tbody>\n",
       "    <tr>\n",
       "      <th>0</th>\n",
       "      <td>-78.87623</td>\n",
       "      <td>35.75749</td>\n",
       "      <td>-78.8883</td>\n",
       "      <td>35.985724</td>\n",
       "    </tr>\n",
       "    <tr>\n",
       "      <th>1</th>\n",
       "      <td>-78.87546</td>\n",
       "      <td>35.76126</td>\n",
       "      <td>-78.8883</td>\n",
       "      <td>35.985724</td>\n",
       "    </tr>\n",
       "    <tr>\n",
       "      <th>2</th>\n",
       "      <td>-78.87318</td>\n",
       "      <td>35.77369</td>\n",
       "      <td>-78.8883</td>\n",
       "      <td>35.985724</td>\n",
       "    </tr>\n",
       "    <tr>\n",
       "      <th>3</th>\n",
       "      <td>-78.82045</td>\n",
       "      <td>35.74599</td>\n",
       "      <td>-78.8883</td>\n",
       "      <td>35.985724</td>\n",
       "    </tr>\n",
       "    <tr>\n",
       "      <th>4</th>\n",
       "      <td>-78.82340</td>\n",
       "      <td>35.74686</td>\n",
       "      <td>-78.8883</td>\n",
       "      <td>35.985724</td>\n",
       "    </tr>\n",
       "  </tbody>\n",
       "</table>\n",
       "</div>"
      ],
      "text/plain": [
       "    bus_lng   bus_lat  pantry_lon  pantry_lat\n",
       "0 -78.87623  35.75749    -78.8883   35.985724\n",
       "1 -78.87546  35.76126    -78.8883   35.985724\n",
       "2 -78.87318  35.77369    -78.8883   35.985724\n",
       "3 -78.82045  35.74599    -78.8883   35.985724\n",
       "4 -78.82340  35.74686    -78.8883   35.985724"
      ]
     },
     "execution_count": 37,
     "metadata": {},
     "output_type": "execute_result"
    }
   ],
   "source": [
    "bus_by_pantry_small.head()"
   ]
  },
  {
   "cell_type": "code",
   "execution_count": 38,
   "metadata": {
    "collapsed": false
   },
   "outputs": [],
   "source": [
    "bus_by_pantry['distance_meter'] = bus_by_pantry_small.apply(distance, 1) #get distance in meters\n",
    "bus_by_pantry['distance_miles'] =bus_by_pantry.distance_meter/1000/1.60934 #convert to miles"
   ]
  },
  {
   "cell_type": "code",
   "execution_count": 39,
   "metadata": {
    "collapsed": true
   },
   "outputs": [
    {
     "data": {
      "text/html": [
       "<div>\n",
       "<table border=\"1\" class=\"dataframe\">\n",
       "  <thead>\n",
       "    <tr style=\"text-align: right;\">\n",
       "      <th></th>\n",
       "      <th>foodpantry</th>\n",
       "      <th>address</th>\n",
       "      <th>address2</th>\n",
       "      <th>city</th>\n",
       "      <th>state</th>\n",
       "      <th>zip</th>\n",
       "      <th>phone</th>\n",
       "      <th>county</th>\n",
       "      <th>pantry_lon</th>\n",
       "      <th>pantry_lat</th>\n",
       "      <th>key</th>\n",
       "      <th>code</th>\n",
       "      <th>description</th>\n",
       "      <th>url</th>\n",
       "      <th>parent_station_id</th>\n",
       "      <th>agency_ids</th>\n",
       "      <th>station_id</th>\n",
       "      <th>location_type</th>\n",
       "      <th>stop_id</th>\n",
       "      <th>routes</th>\n",
       "      <th>name</th>\n",
       "      <th>bus_lat</th>\n",
       "      <th>bus_lng</th>\n",
       "      <th>distance_meter</th>\n",
       "      <th>distance_miles</th>\n",
       "    </tr>\n",
       "  </thead>\n",
       "  <tbody>\n",
       "    <tr>\n",
       "      <th>0</th>\n",
       "      <td>Asbury Temple United Methodist Church</td>\n",
       "      <td>201 Alston Avenue</td>\n",
       "      <td>NaN</td>\n",
       "      <td>Durham</td>\n",
       "      <td>NC</td>\n",
       "      <td>27701</td>\n",
       "      <td>(919) 688-4578</td>\n",
       "      <td>Durham</td>\n",
       "      <td>-78.8883</td>\n",
       "      <td>35.985724</td>\n",
       "      <td>1</td>\n",
       "      <td>1240</td>\n",
       "      <td>NaN</td>\n",
       "      <td>NaN</td>\n",
       "      <td>NaN</td>\n",
       "      <td>12</td>\n",
       "      <td>NaN</td>\n",
       "      <td>stop</td>\n",
       "      <td>4025434</td>\n",
       "      <td>4000112</td>\n",
       "      <td>NC 55 at Colony Woods Dr</td>\n",
       "      <td>35.75749</td>\n",
       "      <td>-78.87623</td>\n",
       "      <td>25347.554909</td>\n",
       "      <td>15.750280</td>\n",
       "    </tr>\n",
       "    <tr>\n",
       "      <th>1</th>\n",
       "      <td>Asbury Temple United Methodist Church</td>\n",
       "      <td>201 Alston Avenue</td>\n",
       "      <td>NaN</td>\n",
       "      <td>Durham</td>\n",
       "      <td>NC</td>\n",
       "      <td>27701</td>\n",
       "      <td>(919) 688-4578</td>\n",
       "      <td>Durham</td>\n",
       "      <td>-78.8883</td>\n",
       "      <td>35.985724</td>\n",
       "      <td>1</td>\n",
       "      <td>1241</td>\n",
       "      <td>NaN</td>\n",
       "      <td>NaN</td>\n",
       "      <td>NaN</td>\n",
       "      <td>12</td>\n",
       "      <td>NaN</td>\n",
       "      <td>stop</td>\n",
       "      <td>4025438</td>\n",
       "      <td>4000112</td>\n",
       "      <td>NC 55 at Old Jenks Rd</td>\n",
       "      <td>35.76126</td>\n",
       "      <td>-78.87546</td>\n",
       "      <td>24932.785692</td>\n",
       "      <td>15.492553</td>\n",
       "    </tr>\n",
       "    <tr>\n",
       "      <th>2</th>\n",
       "      <td>Asbury Temple United Methodist Church</td>\n",
       "      <td>201 Alston Avenue</td>\n",
       "      <td>NaN</td>\n",
       "      <td>Durham</td>\n",
       "      <td>NC</td>\n",
       "      <td>27701</td>\n",
       "      <td>(919) 688-4578</td>\n",
       "      <td>Durham</td>\n",
       "      <td>-78.8883</td>\n",
       "      <td>35.985724</td>\n",
       "      <td>1</td>\n",
       "      <td>1242</td>\n",
       "      <td>NaN</td>\n",
       "      <td>NaN</td>\n",
       "      <td>NaN</td>\n",
       "      <td>12</td>\n",
       "      <td>NaN</td>\n",
       "      <td>stop</td>\n",
       "      <td>4025442</td>\n",
       "      <td>4000112</td>\n",
       "      <td>NC 55 at Lewey Dr</td>\n",
       "      <td>35.77369</td>\n",
       "      <td>-78.87318</td>\n",
       "      <td>23566.225224</td>\n",
       "      <td>14.643410</td>\n",
       "    </tr>\n",
       "    <tr>\n",
       "      <th>3</th>\n",
       "      <td>Asbury Temple United Methodist Church</td>\n",
       "      <td>201 Alston Avenue</td>\n",
       "      <td>NaN</td>\n",
       "      <td>Durham</td>\n",
       "      <td>NC</td>\n",
       "      <td>27701</td>\n",
       "      <td>(919) 688-4578</td>\n",
       "      <td>Durham</td>\n",
       "      <td>-78.8883</td>\n",
       "      <td>35.985724</td>\n",
       "      <td>1</td>\n",
       "      <td>1262</td>\n",
       "      <td>NaN</td>\n",
       "      <td>NaN</td>\n",
       "      <td>NaN</td>\n",
       "      <td>12</td>\n",
       "      <td>NaN</td>\n",
       "      <td>stop</td>\n",
       "      <td>4025474</td>\n",
       "      <td>4000112, 4000117</td>\n",
       "      <td>Pine Plaza Dr at Summit Lake Dr</td>\n",
       "      <td>35.74599</td>\n",
       "      <td>-78.82045</td>\n",
       "      <td>27296.809521</td>\n",
       "      <td>16.961493</td>\n",
       "    </tr>\n",
       "    <tr>\n",
       "      <th>4</th>\n",
       "      <td>Asbury Temple United Methodist Church</td>\n",
       "      <td>201 Alston Avenue</td>\n",
       "      <td>NaN</td>\n",
       "      <td>Durham</td>\n",
       "      <td>NC</td>\n",
       "      <td>27701</td>\n",
       "      <td>(919) 688-4578</td>\n",
       "      <td>Durham</td>\n",
       "      <td>-78.8883</td>\n",
       "      <td>35.985724</td>\n",
       "      <td>1</td>\n",
       "      <td>1263</td>\n",
       "      <td>NaN</td>\n",
       "      <td>NaN</td>\n",
       "      <td>NaN</td>\n",
       "      <td>12</td>\n",
       "      <td>NaN</td>\n",
       "      <td>stop</td>\n",
       "      <td>4025478</td>\n",
       "      <td>4000112, 4000117</td>\n",
       "      <td>Pine Plaza Dr at Shepherds Vineyard</td>\n",
       "      <td>35.74686</td>\n",
       "      <td>-78.82340</td>\n",
       "      <td>27143.967386</td>\n",
       "      <td>16.866521</td>\n",
       "    </tr>\n",
       "  </tbody>\n",
       "</table>\n",
       "</div>"
      ],
      "text/plain": [
       "                              foodpantry            address address2    city  \\\n",
       "0  Asbury Temple United Methodist Church  201 Alston Avenue      NaN  Durham   \n",
       "1  Asbury Temple United Methodist Church  201 Alston Avenue      NaN  Durham   \n",
       "2  Asbury Temple United Methodist Church  201 Alston Avenue      NaN  Durham   \n",
       "3  Asbury Temple United Methodist Church  201 Alston Avenue      NaN  Durham   \n",
       "4  Asbury Temple United Methodist Church  201 Alston Avenue      NaN  Durham   \n",
       "\n",
       "  state    zip           phone  county  pantry_lon  pantry_lat  key  code  \\\n",
       "0    NC  27701  (919) 688-4578  Durham    -78.8883   35.985724    1  1240   \n",
       "1    NC  27701  (919) 688-4578  Durham    -78.8883   35.985724    1  1241   \n",
       "2    NC  27701  (919) 688-4578  Durham    -78.8883   35.985724    1  1242   \n",
       "3    NC  27701  (919) 688-4578  Durham    -78.8883   35.985724    1  1262   \n",
       "4    NC  27701  (919) 688-4578  Durham    -78.8883   35.985724    1  1263   \n",
       "\n",
       "   description  url  parent_station_id agency_ids  station_id location_type  \\\n",
       "0          NaN  NaN                NaN         12         NaN          stop   \n",
       "1          NaN  NaN                NaN         12         NaN          stop   \n",
       "2          NaN  NaN                NaN         12         NaN          stop   \n",
       "3          NaN  NaN                NaN         12         NaN          stop   \n",
       "4          NaN  NaN                NaN         12         NaN          stop   \n",
       "\n",
       "   stop_id            routes                                 name   bus_lat  \\\n",
       "0  4025434           4000112             NC 55 at Colony Woods Dr  35.75749   \n",
       "1  4025438           4000112                NC 55 at Old Jenks Rd  35.76126   \n",
       "2  4025442           4000112                    NC 55 at Lewey Dr  35.77369   \n",
       "3  4025474  4000112, 4000117      Pine Plaza Dr at Summit Lake Dr  35.74599   \n",
       "4  4025478  4000112, 4000117  Pine Plaza Dr at Shepherds Vineyard  35.74686   \n",
       "\n",
       "    bus_lng  distance_meter  distance_miles  \n",
       "0 -78.87623    25347.554909       15.750280  \n",
       "1 -78.87546    24932.785692       15.492553  \n",
       "2 -78.87318    23566.225224       14.643410  \n",
       "3 -78.82045    27296.809521       16.961493  \n",
       "4 -78.82340    27143.967386       16.866521  "
      ]
     },
     "execution_count": 39,
     "metadata": {},
     "output_type": "execute_result"
    }
   ],
   "source": [
    "pd.set_option('display.max_columns', 500)\n",
    "bus_by_pantry.head()"
   ]
  },
  {
   "cell_type": "code",
   "execution_count": 40,
   "metadata": {
    "collapsed": true
   },
   "outputs": [],
   "source": [
    "bus_less_than_1mi = bus_by_pantry.loc[bus_by_pantry.distance_miles<1, :]"
   ]
  },
  {
   "cell_type": "markdown",
   "metadata": {},
   "source": [
    "then I will have distances less than 1 mile and all I will need to do is check which pantries are in this list and which are not-- aggregate by county and compare to aggregate of all by county"
   ]
  },
  {
   "cell_type": "code",
   "execution_count": 41,
   "metadata": {
    "collapsed": true
   },
   "outputs": [
    {
     "data": {
      "text/html": [
       "<div>\n",
       "<table border=\"1\" class=\"dataframe\">\n",
       "  <thead>\n",
       "    <tr style=\"text-align: right;\">\n",
       "      <th></th>\n",
       "      <th>foodpantry</th>\n",
       "      <th>address</th>\n",
       "      <th>address2</th>\n",
       "      <th>city</th>\n",
       "      <th>state</th>\n",
       "      <th>zip</th>\n",
       "      <th>phone</th>\n",
       "      <th>county</th>\n",
       "      <th>pantry_lon</th>\n",
       "      <th>pantry_lat</th>\n",
       "      <th>key</th>\n",
       "      <th>code</th>\n",
       "      <th>description</th>\n",
       "      <th>url</th>\n",
       "      <th>parent_station_id</th>\n",
       "      <th>agency_ids</th>\n",
       "      <th>station_id</th>\n",
       "      <th>location_type</th>\n",
       "      <th>stop_id</th>\n",
       "      <th>routes</th>\n",
       "      <th>name</th>\n",
       "      <th>bus_lat</th>\n",
       "      <th>bus_lng</th>\n",
       "      <th>distance_meter</th>\n",
       "      <th>distance_miles</th>\n",
       "    </tr>\n",
       "  </thead>\n",
       "  <tbody>\n",
       "    <tr>\n",
       "      <th>158</th>\n",
       "      <td>Asbury Temple United Methodist Church</td>\n",
       "      <td>201 Alston Avenue</td>\n",
       "      <td>NaN</td>\n",
       "      <td>Durham</td>\n",
       "      <td>NC</td>\n",
       "      <td>27701</td>\n",
       "      <td>(919) 688-4578</td>\n",
       "      <td>Durham</td>\n",
       "      <td>-78.8883</td>\n",
       "      <td>35.985724</td>\n",
       "      <td>1</td>\n",
       "      <td>5006</td>\n",
       "      <td>NaN</td>\n",
       "      <td>NaN</td>\n",
       "      <td>NaN</td>\n",
       "      <td>24</td>\n",
       "      <td>NaN</td>\n",
       "      <td>stop</td>\n",
       "      <td>4049730</td>\n",
       "      <td>4000079</td>\n",
       "      <td>Alston Ave at Durham Freeway</td>\n",
       "      <td>35.98103</td>\n",
       "      <td>-78.89091</td>\n",
       "      <td>571.594021</td>\n",
       "      <td>0.355173</td>\n",
       "    </tr>\n",
       "    <tr>\n",
       "      <th>159</th>\n",
       "      <td>Asbury Temple United Methodist Church</td>\n",
       "      <td>201 Alston Avenue</td>\n",
       "      <td>NaN</td>\n",
       "      <td>Durham</td>\n",
       "      <td>NC</td>\n",
       "      <td>27701</td>\n",
       "      <td>(919) 688-4578</td>\n",
       "      <td>Durham</td>\n",
       "      <td>-78.8883</td>\n",
       "      <td>35.985724</td>\n",
       "      <td>1</td>\n",
       "      <td>5008</td>\n",
       "      <td>NaN</td>\n",
       "      <td>NaN</td>\n",
       "      <td>NaN</td>\n",
       "      <td>12, 24</td>\n",
       "      <td>NaN</td>\n",
       "      <td>stop</td>\n",
       "      <td>4049734</td>\n",
       "      <td>4000079, 4000116</td>\n",
       "      <td>S Alston Ave at Massey Ave</td>\n",
       "      <td>35.97815</td>\n",
       "      <td>-78.89219</td>\n",
       "      <td>910.722078</td>\n",
       "      <td>0.565898</td>\n",
       "    </tr>\n",
       "    <tr>\n",
       "      <th>167</th>\n",
       "      <td>Asbury Temple United Methodist Church</td>\n",
       "      <td>201 Alston Avenue</td>\n",
       "      <td>NaN</td>\n",
       "      <td>Durham</td>\n",
       "      <td>NC</td>\n",
       "      <td>27701</td>\n",
       "      <td>(919) 688-4578</td>\n",
       "      <td>Durham</td>\n",
       "      <td>-78.8883</td>\n",
       "      <td>35.985724</td>\n",
       "      <td>1</td>\n",
       "      <td>5024</td>\n",
       "      <td>NaN</td>\n",
       "      <td>NaN</td>\n",
       "      <td>NaN</td>\n",
       "      <td>24</td>\n",
       "      <td>NaN</td>\n",
       "      <td>stop</td>\n",
       "      <td>4049778</td>\n",
       "      <td>4000085, 4003062</td>\n",
       "      <td>2309 Angier Ave</td>\n",
       "      <td>35.98067</td>\n",
       "      <td>-78.87443</td>\n",
       "      <td>1370.788797</td>\n",
       "      <td>0.851771</td>\n",
       "    </tr>\n",
       "    <tr>\n",
       "      <th>176</th>\n",
       "      <td>Asbury Temple United Methodist Church</td>\n",
       "      <td>201 Alston Avenue</td>\n",
       "      <td>NaN</td>\n",
       "      <td>Durham</td>\n",
       "      <td>NC</td>\n",
       "      <td>27701</td>\n",
       "      <td>(919) 688-4578</td>\n",
       "      <td>Durham</td>\n",
       "      <td>-78.8883</td>\n",
       "      <td>35.985724</td>\n",
       "      <td>1</td>\n",
       "      <td>5038</td>\n",
       "      <td>NaN</td>\n",
       "      <td>NaN</td>\n",
       "      <td>NaN</td>\n",
       "      <td>24</td>\n",
       "      <td>NaN</td>\n",
       "      <td>stop</td>\n",
       "      <td>4049818</td>\n",
       "      <td>4000083, 4000086, 4003058, 4005298</td>\n",
       "      <td>Liberty St at Queen St</td>\n",
       "      <td>35.99365</td>\n",
       "      <td>-78.89555</td>\n",
       "      <td>1095.824666</td>\n",
       "      <td>0.680916</td>\n",
       "    </tr>\n",
       "    <tr>\n",
       "      <th>177</th>\n",
       "      <td>Asbury Temple United Methodist Church</td>\n",
       "      <td>201 Alston Avenue</td>\n",
       "      <td>NaN</td>\n",
       "      <td>Durham</td>\n",
       "      <td>NC</td>\n",
       "      <td>27701</td>\n",
       "      <td>(919) 688-4578</td>\n",
       "      <td>Durham</td>\n",
       "      <td>-78.8883</td>\n",
       "      <td>35.985724</td>\n",
       "      <td>1</td>\n",
       "      <td>5039</td>\n",
       "      <td>NaN</td>\n",
       "      <td>NaN</td>\n",
       "      <td>NaN</td>\n",
       "      <td>24</td>\n",
       "      <td>NaN</td>\n",
       "      <td>stop</td>\n",
       "      <td>4049822</td>\n",
       "      <td>4000088, 4004490</td>\n",
       "      <td>Fayetteville St at E Piedmont Ave</td>\n",
       "      <td>35.98433</td>\n",
       "      <td>-78.89912</td>\n",
       "      <td>987.962075</td>\n",
       "      <td>0.613893</td>\n",
       "    </tr>\n",
       "  </tbody>\n",
       "</table>\n",
       "</div>"
      ],
      "text/plain": [
       "                                foodpantry            address address2  \\\n",
       "158  Asbury Temple United Methodist Church  201 Alston Avenue      NaN   \n",
       "159  Asbury Temple United Methodist Church  201 Alston Avenue      NaN   \n",
       "167  Asbury Temple United Methodist Church  201 Alston Avenue      NaN   \n",
       "176  Asbury Temple United Methodist Church  201 Alston Avenue      NaN   \n",
       "177  Asbury Temple United Methodist Church  201 Alston Avenue      NaN   \n",
       "\n",
       "       city state    zip           phone  county  pantry_lon  pantry_lat  key  \\\n",
       "158  Durham    NC  27701  (919) 688-4578  Durham    -78.8883   35.985724    1   \n",
       "159  Durham    NC  27701  (919) 688-4578  Durham    -78.8883   35.985724    1   \n",
       "167  Durham    NC  27701  (919) 688-4578  Durham    -78.8883   35.985724    1   \n",
       "176  Durham    NC  27701  (919) 688-4578  Durham    -78.8883   35.985724    1   \n",
       "177  Durham    NC  27701  (919) 688-4578  Durham    -78.8883   35.985724    1   \n",
       "\n",
       "     code  description  url  parent_station_id agency_ids  station_id  \\\n",
       "158  5006          NaN  NaN                NaN         24         NaN   \n",
       "159  5008          NaN  NaN                NaN     12, 24         NaN   \n",
       "167  5024          NaN  NaN                NaN         24         NaN   \n",
       "176  5038          NaN  NaN                NaN         24         NaN   \n",
       "177  5039          NaN  NaN                NaN         24         NaN   \n",
       "\n",
       "    location_type  stop_id                              routes  \\\n",
       "158          stop  4049730                             4000079   \n",
       "159          stop  4049734                    4000079, 4000116   \n",
       "167          stop  4049778                    4000085, 4003062   \n",
       "176          stop  4049818  4000083, 4000086, 4003058, 4005298   \n",
       "177          stop  4049822                    4000088, 4004490   \n",
       "\n",
       "                                  name   bus_lat   bus_lng  distance_meter  \\\n",
       "158       Alston Ave at Durham Freeway  35.98103 -78.89091      571.594021   \n",
       "159         S Alston Ave at Massey Ave  35.97815 -78.89219      910.722078   \n",
       "167                    2309 Angier Ave  35.98067 -78.87443     1370.788797   \n",
       "176             Liberty St at Queen St  35.99365 -78.89555     1095.824666   \n",
       "177  Fayetteville St at E Piedmont Ave  35.98433 -78.89912      987.962075   \n",
       "\n",
       "     distance_miles  \n",
       "158        0.355173  \n",
       "159        0.565898  \n",
       "167        0.851771  \n",
       "176        0.680916  \n",
       "177        0.613893  "
      ]
     },
     "execution_count": 41,
     "metadata": {},
     "output_type": "execute_result"
    }
   ],
   "source": [
    "bus_less_than_1mi.head()"
   ]
  },
  {
   "cell_type": "code",
   "execution_count": 42,
   "metadata": {
    "collapsed": false
   },
   "outputs": [
    {
     "data": {
      "text/plain": [
       "(4928, 25)"
      ]
     },
     "execution_count": 42,
     "metadata": {},
     "output_type": "execute_result"
    }
   ],
   "source": [
    "bus_less_than_1mi.shape"
   ]
  },
  {
   "cell_type": "code",
   "execution_count": 95,
   "metadata": {
    "collapsed": true
   },
   "outputs": [],
   "source": [
    "bus_less_than_1mi.to_csv('/mnt/datavault/alice/data4good/distances_pantries_to_busstop.csv', index=False)"
   ]
  },
  {
   "cell_type": "code",
   "execution_count": 43,
   "metadata": {
    "collapsed": true
   },
   "outputs": [],
   "source": [
    "pantries_with_bus = bus_less_than_1mi.drop_duplicates('foodpantry')"
   ]
  },
  {
   "cell_type": "code",
   "execution_count": 44,
   "metadata": {
    "collapsed": false
   },
   "outputs": [
    {
     "data": {
      "text/plain": [
       "(86, 25)"
      ]
     },
     "execution_count": 44,
     "metadata": {},
     "output_type": "execute_result"
    }
   ],
   "source": [
    "pantries_with_bus.shape"
   ]
  },
  {
   "cell_type": "markdown",
   "metadata": {},
   "source": [
    "#So only 86 pantries have buses that serve them within a mile out of 136 pantries, not counting Johnston County (with Johnston there are 169 pantries, total)-- that's about 2/3 of pantries being served"
   ]
  },
  {
   "cell_type": "code",
   "execution_count": 45,
   "metadata": {
    "collapsed": false
   },
   "outputs": [
    {
     "data": {
      "text/plain": [
       "(136, 11)"
      ]
     },
     "execution_count": 45,
     "metadata": {},
     "output_type": "execute_result"
    }
   ],
   "source": [
    "pantry_location.shape"
   ]
  },
  {
   "cell_type": "code",
   "execution_count": 83,
   "metadata": {
    "collapsed": false
   },
   "outputs": [
    {
     "data": {
      "text/plain": [
       "33"
      ]
     },
     "execution_count": 83,
     "metadata": {},
     "output_type": "execute_result"
    }
   ],
   "source": [
    "169-136"
   ]
  },
  {
   "cell_type": "code",
   "execution_count": 46,
   "metadata": {
    "collapsed": false
   },
   "outputs": [
    {
     "data": {
      "text/plain": [
       "0.6323529411764706"
      ]
     },
     "execution_count": 46,
     "metadata": {},
     "output_type": "execute_result"
    }
   ],
   "source": [
    "86.0/136.0"
   ]
  },
  {
   "cell_type": "markdown",
   "metadata": {},
   "source": [
    "##Now want to look at pantries by county-- the proportion that have bus stops"
   ]
  },
  {
   "cell_type": "code",
   "execution_count": 48,
   "metadata": {
    "collapsed": false
   },
   "outputs": [
    {
     "data": {
      "text/plain": [
       "Index([u'foodpantry', u'address', u'address2', u'city', u'state', u'zip',\n",
       "       u'phone', u'county', u'lon', u'lat', u'key'],\n",
       "      dtype='object')"
      ]
     },
     "execution_count": 48,
     "metadata": {},
     "output_type": "execute_result"
    }
   ],
   "source": [
    "pantry_location.columns"
   ]
  },
  {
   "cell_type": "code",
   "execution_count": 52,
   "metadata": {
    "collapsed": false
   },
   "outputs": [
    {
     "data": {
      "text/plain": [
       "county\n",
       "Durham    39\n",
       "Orange     6\n",
       "Wake      91\n",
       "Name: foodpantry, dtype: int64"
      ]
     },
     "execution_count": 52,
     "metadata": {},
     "output_type": "execute_result"
    }
   ],
   "source": [
    "pantry_location.groupby('county').count()['foodpantry']"
   ]
  },
  {
   "cell_type": "code",
   "execution_count": 53,
   "metadata": {
    "collapsed": false
   },
   "outputs": [
    {
     "data": {
      "text/plain": [
       "county\n",
       "Durham    37\n",
       "Orange     4\n",
       "Wake      45\n",
       "Name: foodpantry, dtype: int64"
      ]
     },
     "execution_count": 53,
     "metadata": {},
     "output_type": "execute_result"
    }
   ],
   "source": [
    "pantries_with_bus.groupby('county').count()['foodpantry']"
   ]
  },
  {
   "cell_type": "code",
   "execution_count": 62,
   "metadata": {
    "collapsed": false
   },
   "outputs": [],
   "source": [
    "pantries_county = pd.DataFrame(pantry_location.groupby('county').count()['foodpantry'])\n",
    "pantries_bus_county = pd.DataFrame(pantries_with_bus.groupby('county').count()['foodpantry'])"
   ]
  },
  {
   "cell_type": "code",
   "execution_count": 63,
   "metadata": {
    "collapsed": false
   },
   "outputs": [
    {
     "data": {
      "text/html": [
       "<div>\n",
       "<table border=\"1\" class=\"dataframe\">\n",
       "  <thead>\n",
       "    <tr style=\"text-align: right;\">\n",
       "      <th></th>\n",
       "      <th>foodpantry</th>\n",
       "    </tr>\n",
       "    <tr>\n",
       "      <th>county</th>\n",
       "      <th></th>\n",
       "    </tr>\n",
       "  </thead>\n",
       "  <tbody>\n",
       "    <tr>\n",
       "      <th>Durham</th>\n",
       "      <td>39</td>\n",
       "    </tr>\n",
       "    <tr>\n",
       "      <th>Orange</th>\n",
       "      <td>6</td>\n",
       "    </tr>\n",
       "    <tr>\n",
       "      <th>Wake</th>\n",
       "      <td>91</td>\n",
       "    </tr>\n",
       "  </tbody>\n",
       "</table>\n",
       "</div>"
      ],
      "text/plain": [
       "        foodpantry\n",
       "county            \n",
       "Durham          39\n",
       "Orange           6\n",
       "Wake            91"
      ]
     },
     "execution_count": 63,
     "metadata": {},
     "output_type": "execute_result"
    }
   ],
   "source": [
    "pantries_county"
   ]
  },
  {
   "cell_type": "code",
   "execution_count": 66,
   "metadata": {
    "collapsed": false
   },
   "outputs": [],
   "source": [
    "county_bus_availability = pd.merge(pantries_county, pantries_bus_county, left_index=True, right_index=True, suffixes=('_all','_with_bus'))"
   ]
  },
  {
   "cell_type": "code",
   "execution_count": 67,
   "metadata": {
    "collapsed": false
   },
   "outputs": [
    {
     "data": {
      "text/html": [
       "<div>\n",
       "<table border=\"1\" class=\"dataframe\">\n",
       "  <thead>\n",
       "    <tr style=\"text-align: right;\">\n",
       "      <th></th>\n",
       "      <th>foodpantry_all</th>\n",
       "      <th>foodpantry_with_bus</th>\n",
       "    </tr>\n",
       "    <tr>\n",
       "      <th>county</th>\n",
       "      <th></th>\n",
       "      <th></th>\n",
       "    </tr>\n",
       "  </thead>\n",
       "  <tbody>\n",
       "    <tr>\n",
       "      <th>Durham</th>\n",
       "      <td>39</td>\n",
       "      <td>37</td>\n",
       "    </tr>\n",
       "    <tr>\n",
       "      <th>Orange</th>\n",
       "      <td>6</td>\n",
       "      <td>4</td>\n",
       "    </tr>\n",
       "    <tr>\n",
       "      <th>Wake</th>\n",
       "      <td>91</td>\n",
       "      <td>45</td>\n",
       "    </tr>\n",
       "  </tbody>\n",
       "</table>\n",
       "</div>"
      ],
      "text/plain": [
       "        foodpantry_all  foodpantry_with_bus\n",
       "county                                     \n",
       "Durham              39                   37\n",
       "Orange               6                    4\n",
       "Wake                91                   45"
      ]
     },
     "execution_count": 67,
     "metadata": {},
     "output_type": "execute_result"
    }
   ],
   "source": [
    "county_bus_availability"
   ]
  },
  {
   "cell_type": "code",
   "execution_count": 70,
   "metadata": {
    "collapsed": true
   },
   "outputs": [],
   "source": [
    "import numpy as np"
   ]
  },
  {
   "cell_type": "code",
   "execution_count": 79,
   "metadata": {
    "collapsed": false
   },
   "outputs": [],
   "source": [
    "county_bus_availability['percent_bus']=100*county_bus_availability.foodpantry_with_bus/county_bus_availability.foodpantry_all.apply(float)"
   ]
  },
  {
   "cell_type": "markdown",
   "metadata": {},
   "source": [
    "##Percent availability by county"
   ]
  },
  {
   "cell_type": "code",
   "execution_count": 80,
   "metadata": {
    "collapsed": false
   },
   "outputs": [
    {
     "data": {
      "text/html": [
       "<div>\n",
       "<table border=\"1\" class=\"dataframe\">\n",
       "  <thead>\n",
       "    <tr style=\"text-align: right;\">\n",
       "      <th></th>\n",
       "      <th>foodpantry_all</th>\n",
       "      <th>foodpantry_with_bus</th>\n",
       "      <th>percent_bus</th>\n",
       "    </tr>\n",
       "    <tr>\n",
       "      <th>county</th>\n",
       "      <th></th>\n",
       "      <th></th>\n",
       "      <th></th>\n",
       "    </tr>\n",
       "  </thead>\n",
       "  <tbody>\n",
       "    <tr>\n",
       "      <th>Durham</th>\n",
       "      <td>39</td>\n",
       "      <td>37</td>\n",
       "      <td>94.871795</td>\n",
       "    </tr>\n",
       "    <tr>\n",
       "      <th>Orange</th>\n",
       "      <td>6</td>\n",
       "      <td>4</td>\n",
       "      <td>66.666667</td>\n",
       "    </tr>\n",
       "    <tr>\n",
       "      <th>Wake</th>\n",
       "      <td>91</td>\n",
       "      <td>45</td>\n",
       "      <td>49.450549</td>\n",
       "    </tr>\n",
       "  </tbody>\n",
       "</table>\n",
       "</div>"
      ],
      "text/plain": [
       "        foodpantry_all  foodpantry_with_bus  percent_bus\n",
       "county                                                  \n",
       "Durham              39                   37    94.871795\n",
       "Orange               6                    4    66.666667\n",
       "Wake                91                   45    49.450549"
      ]
     },
     "execution_count": 80,
     "metadata": {},
     "output_type": "execute_result"
    }
   ],
   "source": [
    "county_bus_availability"
   ]
  },
  {
   "cell_type": "code",
   "execution_count": 81,
   "metadata": {
    "collapsed": true
   },
   "outputs": [],
   "source": [
    "county_bus_availability.reset_index(inplace=True)"
   ]
  },
  {
   "cell_type": "code",
   "execution_count": 82,
   "metadata": {
    "collapsed": false
   },
   "outputs": [
    {
     "data": {
      "text/html": [
       "<div>\n",
       "<table border=\"1\" class=\"dataframe\">\n",
       "  <thead>\n",
       "    <tr style=\"text-align: right;\">\n",
       "      <th></th>\n",
       "      <th>county</th>\n",
       "      <th>foodpantry_all</th>\n",
       "      <th>foodpantry_with_bus</th>\n",
       "      <th>percent_bus</th>\n",
       "    </tr>\n",
       "  </thead>\n",
       "  <tbody>\n",
       "    <tr>\n",
       "      <th>0</th>\n",
       "      <td>Durham</td>\n",
       "      <td>39</td>\n",
       "      <td>37</td>\n",
       "      <td>94.871795</td>\n",
       "    </tr>\n",
       "    <tr>\n",
       "      <th>1</th>\n",
       "      <td>Orange</td>\n",
       "      <td>6</td>\n",
       "      <td>4</td>\n",
       "      <td>66.666667</td>\n",
       "    </tr>\n",
       "    <tr>\n",
       "      <th>2</th>\n",
       "      <td>Wake</td>\n",
       "      <td>91</td>\n",
       "      <td>45</td>\n",
       "      <td>49.450549</td>\n",
       "    </tr>\n",
       "  </tbody>\n",
       "</table>\n",
       "</div>"
      ],
      "text/plain": [
       "   county  foodpantry_all  foodpantry_with_bus  percent_bus\n",
       "0  Durham              39                   37    94.871795\n",
       "1  Orange               6                    4    66.666667\n",
       "2    Wake              91                   45    49.450549"
      ]
     },
     "execution_count": 82,
     "metadata": {},
     "output_type": "execute_result"
    }
   ],
   "source": [
    "county_bus_availability"
   ]
  },
  {
   "cell_type": "code",
   "execution_count": 88,
   "metadata": {
    "collapsed": false
   },
   "outputs": [],
   "source": [
    "johnston = pd.Series({'county': 'Johnston', 'foodpantry_all':33, 'foodpantry_with_bus': 0, 'percent_bus':0})"
   ]
  },
  {
   "cell_type": "code",
   "execution_count": 93,
   "metadata": {
    "collapsed": false
   },
   "outputs": [],
   "source": [
    "county_bus_availability=county_bus_availability.append(pd.DataFrame(johnston).T, ignore_index=True)"
   ]
  },
  {
   "cell_type": "code",
   "execution_count": 94,
   "metadata": {
    "collapsed": true
   },
   "outputs": [],
   "source": [
    "county_bus_availability.to_csv('/mnt/datavault/alice/data4good/pantry_bus_availability_by_county.csv', index=False)"
   ]
  },
  {
   "cell_type": "code",
   "execution_count": null,
   "metadata": {
    "collapsed": true
   },
   "outputs": [],
   "source": []
  }
 ],
 "metadata": {
  "kernelspec": {
   "display_name": "Python 2",
   "language": "python",
   "name": "python2"
  },
  "language_info": {
   "codemirror_mode": {
    "name": "ipython",
    "version": 2
   },
   "file_extension": ".py",
   "mimetype": "text/x-python",
   "name": "python",
   "nbconvert_exporter": "python",
   "pygments_lexer": "ipython2",
   "version": "2.7.10"
  }
 },
 "nbformat": 4,
 "nbformat_minor": 0
}
